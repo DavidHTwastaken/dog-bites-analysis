{
 "cells": [
  {
   "cell_type": "markdown",
   "metadata": {},
   "source": [
    "# Dog Bite Reports in New York City\n",
    "### *An analysis on gender and breed*\n",
    "#### Student Number: 100816849\n",
    "#### Name: David Houle-Tymeczko"
   ]
  },
  {
   "attachments": {},
   "cell_type": "markdown",
   "metadata": {},
   "source": [
    "New York City has publicly available datasets on its website, one of which contains reports of dog bites. The earliest report comes from December 31, 2014, and the latest one comes from December 30, 2021. The raw file contains 22,663 dog bite incidents. Every row represents a single incident, with columns indicating the date, dog breed, age, gender, spayed/neutered status, and the borough and zip code where the bite took place, among others.\n",
    "\n",
    "In Ontario, new pit bulls have been disallowed due to their penchant for biting. Such a strong stance against a specific breed suggests there must be statistical evidence to back it up. The gender of the dog could also play a role in their probability to bite since males are typically seen as more aggressive. Additionally, neutering and spaying seem like they would have an effect on a dog’s behaviour. I will explore the relationships between dog breeds, gender, and whether they were spayed or neutered, with respect to the number of incidents.\n",
    "\n",
    "![Image of Dog Bite](https://worldanimalfoundation.org/wp-content/uploads/2023/01/The-Most-Crucial-Dog-Bite-Statistics-review.jpg)"
   ]
  },
  {
   "cell_type": "markdown",
   "metadata": {},
   "source": [
    "## Methods\n",
    "### Data Collection"
   ]
  },
  {
   "cell_type": "markdown",
   "metadata": {},
   "source": [
    "<a href=https://www.kaggle.com/datasets/michaelbryantds/dog-bite-incidents>Kaggle</a>, a free online source for datasets, maintains a set of data from New York City containing reports of dog bite incidents since December 31, 2014 [1]."
   ]
  },
  {
   "cell_type": "code",
   "execution_count": 269,
   "metadata": {},
   "outputs": [
    {
     "name": "stdout",
     "output_type": "stream",
     "text": [
      "Number of rows: 22663\n"
     ]
    },
    {
     "data": {
      "text/html": [
       "<div>\n",
       "<style scoped>\n",
       "    .dataframe tbody tr th:only-of-type {\n",
       "        vertical-align: middle;\n",
       "    }\n",
       "\n",
       "    .dataframe tbody tr th {\n",
       "        vertical-align: top;\n",
       "    }\n",
       "\n",
       "    .dataframe thead th {\n",
       "        text-align: right;\n",
       "    }\n",
       "</style>\n",
       "<table border=\"1\" class=\"dataframe\">\n",
       "  <thead>\n",
       "    <tr style=\"text-align: right;\">\n",
       "      <th></th>\n",
       "      <th>UniqueID</th>\n",
       "      <th>DateOfBite</th>\n",
       "      <th>Species</th>\n",
       "      <th>Breed</th>\n",
       "      <th>Age</th>\n",
       "      <th>Gender</th>\n",
       "      <th>SpayNeuter</th>\n",
       "      <th>Borough</th>\n",
       "      <th>ZipCode</th>\n",
       "    </tr>\n",
       "  </thead>\n",
       "  <tbody>\n",
       "    <tr>\n",
       "      <th>0</th>\n",
       "      <td>1</td>\n",
       "      <td>January 01 2018</td>\n",
       "      <td>DOG</td>\n",
       "      <td>UNKNOWN</td>\n",
       "      <td>NaN</td>\n",
       "      <td>U</td>\n",
       "      <td>False</td>\n",
       "      <td>Brooklyn</td>\n",
       "      <td>11220</td>\n",
       "    </tr>\n",
       "    <tr>\n",
       "      <th>1</th>\n",
       "      <td>2</td>\n",
       "      <td>January 04 2018</td>\n",
       "      <td>DOG</td>\n",
       "      <td>UNKNOWN</td>\n",
       "      <td>NaN</td>\n",
       "      <td>U</td>\n",
       "      <td>False</td>\n",
       "      <td>Brooklyn</td>\n",
       "      <td>NaN</td>\n",
       "    </tr>\n",
       "    <tr>\n",
       "      <th>2</th>\n",
       "      <td>3</td>\n",
       "      <td>January 06 2018</td>\n",
       "      <td>DOG</td>\n",
       "      <td>Pit Bull</td>\n",
       "      <td>NaN</td>\n",
       "      <td>U</td>\n",
       "      <td>False</td>\n",
       "      <td>Brooklyn</td>\n",
       "      <td>11224</td>\n",
       "    </tr>\n",
       "    <tr>\n",
       "      <th>3</th>\n",
       "      <td>4</td>\n",
       "      <td>January 08 2018</td>\n",
       "      <td>DOG</td>\n",
       "      <td>Mixed/Other</td>\n",
       "      <td>4</td>\n",
       "      <td>M</td>\n",
       "      <td>False</td>\n",
       "      <td>Brooklyn</td>\n",
       "      <td>11231</td>\n",
       "    </tr>\n",
       "    <tr>\n",
       "      <th>4</th>\n",
       "      <td>5</td>\n",
       "      <td>January 09 2018</td>\n",
       "      <td>DOG</td>\n",
       "      <td>Pit Bull</td>\n",
       "      <td>NaN</td>\n",
       "      <td>U</td>\n",
       "      <td>False</td>\n",
       "      <td>Brooklyn</td>\n",
       "      <td>11224</td>\n",
       "    </tr>\n",
       "  </tbody>\n",
       "</table>\n",
       "</div>"
      ],
      "text/plain": [
       "   UniqueID       DateOfBite Species        Breed  Age Gender  SpayNeuter  \\\n",
       "0         1  January 01 2018     DOG      UNKNOWN  NaN      U       False   \n",
       "1         2  January 04 2018     DOG      UNKNOWN  NaN      U       False   \n",
       "2         3  January 06 2018     DOG     Pit Bull  NaN      U       False   \n",
       "3         4  January 08 2018     DOG  Mixed/Other    4      M       False   \n",
       "4         5  January 09 2018     DOG     Pit Bull  NaN      U       False   \n",
       "\n",
       "    Borough ZipCode  \n",
       "0  Brooklyn   11220  \n",
       "1  Brooklyn     NaN  \n",
       "2  Brooklyn   11224  \n",
       "3  Brooklyn   11231  \n",
       "4  Brooklyn   11224  "
      ]
     },
     "execution_count": 269,
     "metadata": {},
     "output_type": "execute_result"
    }
   ],
   "source": [
    "import pandas as pd\n",
    "import matplotlib.pyplot as plt\n",
    "import re\n",
    "\n",
    "# Load data into dataframe\n",
    "data = pd.read_csv('DOHMH_Dog_Bite_Data.csv')\n",
    "print(f'Number of rows: {data.shape[0]}')\n",
    "data.head()"
   ]
  },
  {
   "cell_type": "markdown",
   "metadata": {},
   "source": [
    "### Data Cleaning"
   ]
  },
  {
   "cell_type": "markdown",
   "metadata": {},
   "source": [
    "The Species and UniqueID columns are pointless as the dataset only contains dog bites, and dataframes have their own indexing. Additionally, I will not be analyzing the ZipCode, Borough, or DateOfBite columns. Therefore, I removed these five columns."
   ]
  },
  {
   "cell_type": "code",
   "execution_count": 270,
   "metadata": {},
   "outputs": [],
   "source": [
    "# Drop pointless columns\n",
    "data.drop(columns = ['UniqueID', 'Species', 'Borough', 'ZipCode', 'DateOfBite'], inplace=True)"
   ]
  },
  {
   "cell_type": "markdown",
   "metadata": {},
   "source": [
    "Of the rows in the dataset, 12775 had missing values (NaN in pandas). These rows were removed before analyzing further. I also removed the rows in which the breed was entered as 'UNKNOWN' and the rows in which the gender was 'U' (unknown)."
   ]
  },
  {
   "cell_type": "code",
   "execution_count": 271,
   "metadata": {},
   "outputs": [
    {
     "name": "stdout",
     "output_type": "stream",
     "text": [
      "New number of rows: 10871\n"
     ]
    }
   ],
   "source": [
    "# original_length = data.shape[0]\n",
    "\n",
    "# Remove all rows with missing values\n",
    "data.dropna(inplace = True)\n",
    "\n",
    "# missing = original_length - data.shape[0]\n",
    "# print(f'Number of incomplete rows: {missing}')\n",
    "# print(f'Number of complete rows: {original_length - missing}')\n",
    "\n",
    "# Remove all rows with unknown breed\n",
    "data = data[data.Breed != 'UNKNOWN']\n",
    "# print(f'Number of rows with known breed: {data.shape[0]}')\n",
    "\n",
    "# Remove all rows with unknown gender\n",
    "data = data[data.Gender != 'U']\n",
    "# print(f'Number of rows with known gender: {data.shape[0]}')\n",
    "\n",
    "print(f'New number of rows: {data.shape[0]}')"
   ]
  },
  {
   "cell_type": "markdown",
   "metadata": {},
   "source": [
    "Age in this dataset is actually plaintext, with an 'M' or 'm' indicating that the age is in months. There are also rows with a number followed by a 'Y' or 'y', presumably referring to age in years. Most of the rows contain ages with a simple number, indicating age in years.\n",
    "\n",
    "However, there are 341 values that do not fall into any of these cases.\n",
    "\n",
    "Upon further investigation, some of these exceptions end with a 'W' for weeks or a ' YRS' for years."
   ]
  },
  {
   "cell_type": "code",
   "execution_count": 272,
   "metadata": {},
   "outputs": [
    {
     "name": "stdout",
     "output_type": "stream",
     "text": [
      "Number: 9713, Number with M: 584, Number with Y: 229, Other: 345\n"
     ]
    },
    {
     "data": {
      "text/plain": [
       "107      10W\n",
       "120     7-8M\n",
       "325    7 YRS\n",
       "473    5 YRS\n",
       "489    2 YRS\n",
       "Name: Age, dtype: object"
      ]
     },
     "execution_count": 272,
     "metadata": {},
     "output_type": "execute_result"
    }
   ],
   "source": [
    "# Boolean Series to be used for filtering data by age formats\n",
    "number_only_filter = data.Age.str.contains(r'^\\d+$')\n",
    "number_months_filter = data.Age.str.contains(r'^\\d+[Mm]$')\n",
    "number_y_filter = data.Age.str.contains(r'^\\d+[Yy]$')\n",
    "\n",
    "number_only = data.Age[number_only_filter].shape[0]\n",
    "number_months = data.Age[number_months_filter].shape[0]\n",
    "number_y = data.Age[number_y_filter].shape[0]\n",
    "other_count = data.shape[0] - number_only - number_months - number_y\n",
    "\n",
    "print(f'Number: {number_only}, Number with M: {number_months}, Number with Y: {number_y}, Other: {other_count}')\n",
    "\n",
    "# Taking a look at the other values\n",
    "other = data.Age[~number_only_filter][~number_months_filter][~number_y_filter]\n",
    "other.head()"
   ]
  },
  {
   "cell_type": "markdown",
   "metadata": {},
   "source": [
    "The other 341 rows actually contain a variety of age formats. Therefore, I removed them as they would add unncessary complexity for only a small number of data points. \n",
    "\n",
    "Converted months to years and made all ages numeric."
   ]
  },
  {
   "cell_type": "code",
   "execution_count": 273,
   "metadata": {},
   "outputs": [
    {
     "name": "stdout",
     "output_type": "stream",
     "text": [
      "Updated number of rows: 10526\n"
     ]
    },
    {
     "data": {
      "text/plain": [
       "3     4.0\n",
       "5     4.0\n",
       "8     5.0\n",
       "9     3.0\n",
       "11    7.0\n",
       "Name: Age, dtype: float64"
      ]
     },
     "execution_count": 273,
     "metadata": {},
     "output_type": "execute_result"
    }
   ],
   "source": [
    "data = data[~data.index.isin(other.index)]\n",
    "print(f'Updated number of rows: {data.shape[0]}')\n",
    "\n",
    "pd.set_option('display.precision', 2)\n",
    "\n",
    "# Converts string to float\n",
    "def convert(n):\n",
    "    if re.match(r'\\d+[Mm]', n) != None:\n",
    "        return float(n.rstrip('Mm'))/12\n",
    "    if re.match(r'\\d+[Yy]', n) != None:\n",
    "        return float(n.rstrip('Yy'))\n",
    "    return float(n)\n",
    "data.Age = data.Age.map(convert)\n",
    "data.Age.head()\n"
   ]
  },
  {
   "cell_type": "markdown",
   "metadata": {},
   "source": [
    "## Analyses\n",
    "I will explore the relationships between dog breed, age, gender, and number of incidents."
   ]
  },
  {
   "cell_type": "markdown",
   "metadata": {},
   "source": [
    "### Distributions"
   ]
  },
  {
   "cell_type": "markdown",
   "metadata": {},
   "source": [
    "The figure below (Fig 1.) shows the age distribution of the dogs. As one might expect, the majority of incidents occurred with younger dogs (under 5 years of age). "
   ]
  },
  {
   "cell_type": "code",
   "execution_count": 274,
   "metadata": {},
   "outputs": [
    {
     "data": {
      "image/png": "[encoded data removed]",
      "text/plain": [
       "<Figure size 700x200 with 1 Axes>"
      ]
     },
     "metadata": {},
     "output_type": "display_data"
    }
   ],
   "source": [
    "h = data.Age.plot.hist(bins=10, figsize=(7,2), grid=False, title='Fig 1. Dog Bites by Age', color='green')\n",
    "plt.xlabel('Age (yrs)')\n",
    "plt.ylabel('Count')\n",
    "plt.show(h)"
   ]
  },
  {
   "cell_type": "markdown",
   "metadata": {},
   "source": [
    "Further analysis shows that the average age is 4.59 years with a standard deviation of 3.34, meaning most of the ages are captured within a 1 year to 8 year interval. In terms of dogs, this represents a decent spread. \n",
    "\n",
    "The ages range from about a month old to 21 years. The greatest age being 21 could be an error, as the likelihood of a dog at a nearly world-record age biting someone seems quite low."
   ]
  },
  {
   "cell_type": "code",
   "execution_count": 275,
   "metadata": {},
   "outputs": [
    {
     "name": "stdout",
     "output_type": "stream",
     "text": [
      "Mean: 4.59\n",
      "Standard deviation: 3.34\n",
      "Max: 21.0\n",
      "Min: 0.08\n"
     ]
    }
   ],
   "source": [
    "ds = data.Age.describe()\n",
    "mean = ds['mean']\n",
    "std = ds['std']\n",
    "max = ds['max']\n",
    "min = ds['min']\n",
    "print(f'Mean: {round(mean,2)}')\n",
    "print(f'Standard deviation: {round(std,2)}')\n",
    "print(f'Max: {round(max,2)}')\n",
    "print(f'Min: {round(min,2)}')"
   ]
  },
  {
   "cell_type": "markdown",
   "metadata": {},
   "source": [
    "Of the incidents in the dataset, the majority of the dogs were male. Figure 2 below shows the distribution of gender."
   ]
  },
  {
   "cell_type": "code",
   "execution_count": 276,
   "metadata": {},
   "outputs": [
    {
     "data": {
      "image/png": "[encoded data removed]",
      "text/plain": [
       "<Figure size 700x200 with 1 Axes>"
      ]
     },
     "metadata": {},
     "output_type": "display_data"
    }
   ],
   "source": [
    "h = data.Gender.hist(bins=3,figsize = (7,2))\n",
    "plt.title('Fig 2. Dog Bites by Gender')\n",
    "plt.show(h)"
   ]
  },
  {
   "cell_type": "markdown",
   "metadata": {},
   "source": [
    "### Gender and Whether Spayed/Neutered on Number of Incidents\n",
    "The number of incidents appears to be completely unaffected by spaying or neutering. In each group, the number of males is more than double the number of female counterparts."
   ]
  },
  {
   "cell_type": "code",
   "execution_count": 277,
   "metadata": {},
   "outputs": [
    {
     "data": {
      "text/html": [
       "<div>\n",
       "<style scoped>\n",
       "    .dataframe tbody tr th:only-of-type {\n",
       "        vertical-align: middle;\n",
       "    }\n",
       "\n",
       "    .dataframe tbody tr th {\n",
       "        vertical-align: top;\n",
       "    }\n",
       "\n",
       "    .dataframe thead th {\n",
       "        text-align: right;\n",
       "    }\n",
       "</style>\n",
       "<table border=\"1\" class=\"dataframe\">\n",
       "  <thead>\n",
       "    <tr style=\"text-align: right;\">\n",
       "      <th>SpayNeuter</th>\n",
       "      <th>False</th>\n",
       "      <th>True</th>\n",
       "    </tr>\n",
       "    <tr>\n",
       "      <th>Gender</th>\n",
       "      <th></th>\n",
       "      <th></th>\n",
       "    </tr>\n",
       "  </thead>\n",
       "  <tbody>\n",
       "    <tr>\n",
       "      <th>F</th>\n",
       "      <td>1317</td>\n",
       "      <td>1589</td>\n",
       "    </tr>\n",
       "    <tr>\n",
       "      <th>M</th>\n",
       "      <td>3778</td>\n",
       "      <td>3842</td>\n",
       "    </tr>\n",
       "  </tbody>\n",
       "</table>\n",
       "</div>"
      ],
      "text/plain": [
       "SpayNeuter  False  True \n",
       "Gender                  \n",
       "F            1317   1589\n",
       "M            3778   3842"
      ]
     },
     "execution_count": 277,
     "metadata": {},
     "output_type": "execute_result"
    }
   ],
   "source": [
    "data.groupby(['Gender', 'SpayNeuter']).size().unstack()"
   ]
  },
  {
   "cell_type": "markdown",
   "metadata": {},
   "source": [
    "### Breed and Number of Incidents\n",
    "Unfortunately, the breeds were not entered in a standardized manner. Some breeds may have been entered twice using different formats, which means some data was lost in examining the number of dogs of each breed."
   ]
  },
  {
   "cell_type": "code",
   "execution_count": 278,
   "metadata": {},
   "outputs": [
    {
     "data": {
      "text/plain": [
       "Breed\n",
       "Pit Bull                                1322\n",
       "Shih Tzu                                 446\n",
       "American Pit Bull Mix / Pit Bull Mix     437\n",
       "German Shepherd                          345\n",
       "Mixed/Other                              317\n",
       "dtype: int64"
      ]
     },
     "execution_count": 278,
     "metadata": {},
     "output_type": "execute_result"
    }
   ],
   "source": [
    "breeds = data.groupby('Breed').size().sort_values(ascending=False)\n",
    "breeds.head()"
   ]
  },
  {
   "cell_type": "markdown",
   "metadata": {},
   "source": [
    "Pit bulls and pit bull mixes appear to be far more common than other breeds in this dataset. I added up all the breeds containing the words 'pit bull' into a single column and compared it to ."
   ]
  },
  {
   "cell_type": "code",
   "execution_count": 279,
   "metadata": {},
   "outputs": [
    {
     "data": {
      "text/plain": [
       "Breed\n",
       "Other                6616\n",
       "Pit Bull             2326\n",
       "Shih Tzu              446\n",
       "German Shepherd       345\n",
       "Chihuahua             301\n",
       "Yorkshire Terrier     274\n",
       "Maltese               218\n",
       "dtype: int64"
      ]
     },
     "execution_count": 279,
     "metadata": {},
     "output_type": "execute_result"
    }
   ],
   "source": [
    "# Collecting all pit bull variants into a single column\n",
    "num_pit_bulls = 0\n",
    "for breed in breeds.index:\n",
    "    if re.search(r'pit bull', breed, re.IGNORECASE) != None:\n",
    "        num_pit_bulls += breeds[breed]\n",
    "        breeds.drop(breed, inplace=True)\n",
    "breeds['Pit Bull'] = num_pit_bulls\n",
    "\n",
    "# Collecting insignificant breeds into one column\n",
    "other = 0\n",
    "for breed in breeds.index:\n",
    "    if breeds[breed] < 200 or breed in ('MIXED', 'MIXED BREED', 'Mixed/Other'):\n",
    "        other += breeds[breed]\n",
    "        breeds.drop(breed, inplace=True)\n",
    "breeds['Other'] = other\n",
    "\n",
    "breeds.sort_values(ascending = False)"
   ]
  },
  {
   "cell_type": "markdown",
   "metadata": {},
   "source": [
    "Figure 3 represents the number of dog bites broken up by breed. There are a wide variety of dog breeds in the dataset, causing the 'Other' category to dwarf the others. However, the 'Pit Bull' category is still quite significant."
   ]
  },
  {
   "cell_type": "code",
   "execution_count": 280,
   "metadata": {},
   "outputs": [
    {
     "data": {
      "image/png": "[encoded data removed]",
      "text/plain": [
       "<Figure size 1500x500 with 1 Axes>"
      ]
     },
     "metadata": {},
     "output_type": "display_data"
    }
   ],
   "source": [
    "breeds.sort_values(ascending=False, inplace=True)\n",
    "bar_plot = breeds.plot.bar(figsize=(15,5), title='Fig 3. Dog Bites by Breed', color='darkorange')\n",
    "plt.xlabel('Breed')\n",
    "plt.xticks(rotation = 0)\n",
    "plt.ylabel('Count')\n",
    "plt.show(bar_plot)"
   ]
  },
  {
   "cell_type": "markdown",
   "metadata": {},
   "source": [
    "### Sex and Breed on Number of Incidents\n",
    "The table below indicates that gender and breed have a great effect on the number of incidents. The males in the 'Other' category are greatest in number (4855), while the highest number of dogs in an individual breed comes from males in 'Pit Bull' (1606)."
   ]
  },
  {
   "cell_type": "code",
   "execution_count": 281,
   "metadata": {},
   "outputs": [
    {
     "data": {
      "text/html": [
       "<div>\n",
       "<style scoped>\n",
       "    .dataframe tbody tr th:only-of-type {\n",
       "        vertical-align: middle;\n",
       "    }\n",
       "\n",
       "    .dataframe tbody tr th {\n",
       "        vertical-align: top;\n",
       "    }\n",
       "\n",
       "    .dataframe thead th {\n",
       "        text-align: right;\n",
       "    }\n",
       "</style>\n",
       "<table border=\"1\" class=\"dataframe\">\n",
       "  <thead>\n",
       "    <tr style=\"text-align: right;\">\n",
       "      <th>Gender</th>\n",
       "      <th>F</th>\n",
       "      <th>M</th>\n",
       "    </tr>\n",
       "    <tr>\n",
       "      <th>Breed</th>\n",
       "      <th></th>\n",
       "      <th></th>\n",
       "    </tr>\n",
       "  </thead>\n",
       "  <tbody>\n",
       "    <tr>\n",
       "      <th>Chihuahua</th>\n",
       "      <td>85</td>\n",
       "      <td>216</td>\n",
       "    </tr>\n",
       "    <tr>\n",
       "      <th>German Shepherd</th>\n",
       "      <td>95</td>\n",
       "      <td>250</td>\n",
       "    </tr>\n",
       "    <tr>\n",
       "      <th>Maltese</th>\n",
       "      <td>60</td>\n",
       "      <td>158</td>\n",
       "    </tr>\n",
       "    <tr>\n",
       "      <th>Other</th>\n",
       "      <td>1761</td>\n",
       "      <td>4855</td>\n",
       "    </tr>\n",
       "    <tr>\n",
       "      <th>Pit Bull</th>\n",
       "      <td>720</td>\n",
       "      <td>1606</td>\n",
       "    </tr>\n",
       "    <tr>\n",
       "      <th>Shih Tzu</th>\n",
       "      <td>117</td>\n",
       "      <td>329</td>\n",
       "    </tr>\n",
       "    <tr>\n",
       "      <th>Yorkshire Terrier</th>\n",
       "      <td>68</td>\n",
       "      <td>206</td>\n",
       "    </tr>\n",
       "  </tbody>\n",
       "</table>\n",
       "</div>"
      ],
      "text/plain": [
       "Gender                F     M\n",
       "Breed                        \n",
       "Chihuahua            85   216\n",
       "German Shepherd      95   250\n",
       "Maltese              60   158\n",
       "Other              1761  4855\n",
       "Pit Bull            720  1606\n",
       "Shih Tzu            117   329\n",
       "Yorkshire Terrier    68   206"
      ]
     },
     "execution_count": 281,
     "metadata": {},
     "output_type": "execute_result"
    }
   ],
   "source": [
    "# Change the actual dataframe to mimick the breeds Series\n",
    "def change_breed(breed):\n",
    "    if re.search(r'pit bull', breed, re.IGNORECASE) != None:\n",
    "        return 'Pit Bull'\n",
    "    elif breed in breeds.index:\n",
    "        return breed\n",
    "    else:\n",
    "        return 'Other'\n",
    "data.Breed = data.Breed.map(change_breed)\n",
    "grouped_data = data.groupby(['Breed', 'Gender']).size().unstack()\n",
    "grouped_data\n"
   ]
  },
  {
   "cell_type": "markdown",
   "metadata": {},
   "source": [
    "Figure 4 illustrates the effect of gender and breed:"
   ]
  },
  {
   "cell_type": "code",
   "execution_count": 282,
   "metadata": {},
   "outputs": [
    {
     "data": {
      "image/png": "[encoded data removed]",
      "text/plain": [
       "<Figure size 1200x300 with 1 Axes>"
      ]
     },
     "metadata": {},
     "output_type": "display_data"
    }
   ],
   "source": [
    "plot = grouped_data.sort_values(ascending=False, axis='index', by='M').plot.bar(stacked=True, color=('lightpink','lightblue'), \n",
    "figsize=(12,3), title='Fig 4. Gender and Breed on Dog Bites')\n",
    "plt.xticks(rotation=0)\n",
    "plt.xlabel('Breed')\n",
    "plt.ylabel('Count')\n",
    "plt.show(plot)"
   ]
  },
  {
   "cell_type": "markdown",
   "metadata": {},
   "source": [
    "## Discussion"
   ]
  },
  {
   "cell_type": "markdown",
   "metadata": {},
   "source": [
    "In this assignment, I analyzed a dataset of dog bite reports in New York City, focusing on the relationships between dog breeds, gender, spayed/neutered status, and how they affect the number of incidents. Both gender and breed affected the number of reports, with male pit bull variants being the largest group. Over twice as many male dogs bit people than female dogs. The ages were mostly in the younger range, probably because younger dogs have more energy and not as much training. Whether a dog was spayed or neutered had no effect on its tendency to bite. These results suggest that discouraging people from owning pit bulls or male dogs or encouraging such owners to properly train their dogs, would lessen the number of dog bite incidents. Therefore, if they have not already done so, New York City should consider making policies based on these findings."
   ]
  },
  {
   "cell_type": "markdown",
   "metadata": {},
   "source": [
    "## References\n",
    "1. Source data - https://www.kaggle.com/datasets/michaelbryantds/dog-bite-incidents\n",
    "2. Pandas for data manipulation\n",
    "3. Matplotlib for data visualization\n",
    "4. Re for regular expressions, used for parsing the data"
   ]
  }
 ],
 "metadata": {
  "kernelspec": {
   "display_name": "Python 3.10.4 64-bit",
   "language": "python",
   "name": "python3"
  },
  "language_info": {
   "codemirror_mode": {
    "name": "ipython",
    "version": 3
   },
   "file_extension": ".py",
   "mimetype": "text/x-python",
   "name": "python",
   "nbconvert_exporter": "python",
   "pygments_lexer": "ipython3",
   "version": "3.10.4"
  },
  "orig_nbformat": 4,
  "vscode": {
   "interpreter": {
    "hash": "369f2c481f4da34e4445cda3fffd2e751bd1c4d706f27375911949ba6bb62e1c"
   }
  }
 },
 "nbformat": 4,
 "nbformat_minor": 2
}
